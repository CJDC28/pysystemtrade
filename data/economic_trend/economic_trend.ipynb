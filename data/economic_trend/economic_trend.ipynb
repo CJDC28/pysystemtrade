{
 "cells": [
  {
   "cell_type": "code",
   "execution_count": null,
   "metadata": {
    "collapsed": true
   },
   "outputs": [],
   "source": [
    "import datetime\n",
    "from sysdata.csv.csv_economic_data import csvEconomicTrendData\n",
    "\n",
    "econ_data = csvEconomicTrendData()\n",
    "econ_data\n"
   ]
  },
  {
   "cell_type": "code",
   "execution_count": null,
   "outputs": [],
   "source": [
    "econ_data.get_trend_list()"
   ],
   "metadata": {
    "collapsed": false
   }
  },
  {
   "cell_type": "code",
   "execution_count": null,
   "outputs": [],
   "source": [
    "trend_key = \"GROWTH\"\n",
    "df = econ_data.get_trend(trend_key)\n",
    "#df = df[\"ewmac\"] # uncomment this to only show ewmac line\n",
    "mask = (df.index > datetime.datetime(1990, 1, 1))\n",
    "df = df.loc[mask]\n",
    "\n",
    "df.plot()\n"
   ],
   "metadata": {
    "collapsed": false
   }
  }
 ],
 "metadata": {
  "kernelspec": {
   "display_name": "Python 3",
   "language": "python",
   "name": "python3"
  },
  "language_info": {
   "codemirror_mode": {
    "name": "ipython",
    "version": 2
   },
   "file_extension": ".py",
   "mimetype": "text/x-python",
   "name": "python",
   "nbconvert_exporter": "python",
   "pygments_lexer": "ipython2",
   "version": "2.7.6"
  }
 },
 "nbformat": 4,
 "nbformat_minor": 0
}
